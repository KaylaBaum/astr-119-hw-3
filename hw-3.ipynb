{
 "cells": [
  {
   "cell_type": "markdown",
   "metadata": {},
   "source": [
    "Import matplotlib and numpy."
   ]
  },
  {
   "cell_type": "code",
   "execution_count": null,
   "metadata": {},
   "outputs": [],
   "source": [
    "%matplotlib inline\n",
    "import numpy as np\n",
    "import matplotlib.pyplot as plt"
   ]
  },
  {
   "cell_type": "markdown",
   "metadata": {},
   "source": [
    "Define the function we want to find the roots of as f(x) = 1.1x^2 - 3.04x + 2.07."
   ]
  },
  {
   "cell_type": "code",
   "execution_count": null,
   "metadata": {},
   "outputs": [],
   "source": [
    "def funct_for_roots(x):\n",
    "    a =  1.01\n",
    "    b = -3.04\n",
    "    c =  2.07\n",
    "    return a*x**2 + b*x + c"
   ]
  },
  {
   "cell_type": "markdown",
   "metadata": {},
   "source": [
    "Define a function to check whether the initial values given are valid."
   ]
  },
  {
   "cell_type": "code",
   "execution_count": null,
   "metadata": {},
   "outputs": [],
   "source": [
    "def check_init_vals(f, x_min, x_max, tol):\n",
    "    y_min = f(x_min)\n",
    "    y_max = f(x_max)\n",
    "    \n",
    "    #the following checks for a zero-crossing by checking if the product is positive\n",
    "    if(y_min*y_max>=0.0):\n",
    "        print(\"No zero-crossing found in the range = \", x_min, x_max)\n",
    "        s = \"f(%f) = %f, f(%f) = %f\" % (x_min,y_min,x_max,y_max)\n",
    "        print(s)\n",
    "        return 0\n",
    "    \n",
    "    #this checks if the min value is ~ a root\n",
    "    if(np.fabs(y_min)<tol):\n",
    "        return 1\n",
    "    \n",
    "    #this checks if the max value is ~ a root\n",
    "    if(np.fabs(y_max)<tol):\n",
    "        return 2\n",
    "    \n",
    "    #otherwise, the values are valid for a starting range\n",
    "    return 3"
   ]
  },
  {
   "cell_type": "markdown",
   "metadata": {},
   "source": [
    "Define function to perform the root search."
   ]
  },
  {
   "cell_type": "code",
   "execution_count": null,
   "metadata": {},
   "outputs": [],
   "source": [
    "def bisect_root_search(f,x_min_start, x_max_start, tol):\n",
    "    x_min = x_min_start\n",
    "    x_max = x_max_start\n",
    "    x_mid = 0.0\n",
    "    \n",
    "    y_min = f(x_min)\n",
    "    y_max = f(x_max)\n",
    "    y_mid = 0.0\n",
    "    \n",
    "    iter_max = 1000\n",
    "    i = 0\n",
    "    \n",
    "    flag = check_init_vals(f,x_min,x_max,tol)\n",
    "    if(flag==0):\n",
    "        print(\"Error in bisect_root_search().\")\n",
    "        raise ValueError('Initial values invalid',x_min,x_max)\n",
    "    elif(flag==1):\n",
    "        return x_min\n",
    "    elif(flag==2):\n",
    "        return x_max\n",
    "    \n",
    "    flag = 1\n",
    "    \n",
    "    while(flag):\n",
    "        x_mid = 0.5*(x_min+x_max)\n",
    "        y_mid = f(x_mid)\n",
    "        \n",
    "        if(np.fabs(y_mid)<tol):\n",
    "            flag = 0\n",
    "        else:\n",
    "            if(f(x_min)*f(x_mid)>0):\n",
    "                x_min = x_mid\n",
    "            else:\n",
    "                x_max = x_mid\n",
    "        \n",
    "        print(x_min,f(x_min),x_max,f(x_max))\n",
    "        \n",
    "        print(\"Iteration #%d:\" % (i+1))\n",
    "        i+=1\n",
    "        \n",
    "        if(i>iter_max):\n",
    "            print(\"Exceeded max number of iterations = \", i)\n",
    "            s = \"Min bracket f(%f) = %f\" % (x_min,f(x_min))\n",
    "            print(s)\n",
    "            s = \"Max bracket f(%f) = %f\" % (x_max,f(x_max))\n",
    "            print(s)\n",
    "            s = \"Mid bracket f(%f) = %f\" % (x_mid,f(x_mid))\n",
    "            print(s)\n",
    "            raise StopIteration('Stopping iterations after ',i)\n",
    "    \n",
    "    return x_mid\n",
    "        "
   ]
  },
  {
   "cell_type": "markdown",
   "metadata": {},
   "source": [
    "Perform the search! Define and print the initial values, and set tolerance to 1.0e-6."
   ]
  },
  {
   "cell_type": "code",
   "execution_count": null,
   "metadata": {},
   "outputs": [],
   "source": [
    "tolerance = 1.0e-6\n",
    "\n",
    "#These are to bracket the first root which I know is very close to 1.0\n",
    "x_min_1 = 0.5\n",
    "x_max_1 = 1.5\n",
    "\n",
    "print('First guesses and the evaluated function value for each:')\n",
    "print('(%f, %f)' % (x_min_1,funct_for_roots(x_min_1)))\n",
    "print('(%f, %f)' % (x_max_1,funct_for_roots(x_max_1)))\n",
    "\n",
    "x_root_1 = bisect_root_search(funct_for_roots,x_min_1,x_max_1,tolerance)\n",
    "y_root_1 = funct_for_roots(x_root_1)\n",
    "\n",
    "s = \"First root found with y(%f) = %f\\n\\n\" % (x_root_1,y_root_1)\n",
    "print(s)\n",
    "\n",
    "\n",
    "#These are to bracket the second root which I know is very close to 2.0\n",
    "x_min_2 = 1.5\n",
    "x_max_2 = 2.5\n",
    "\n",
    "print('First guesses and the evaluated function value for each:')\n",
    "print('(%f, %f)' % (x_min_2,funct_for_roots(x_min_2)))\n",
    "print('(%f, %f)' % (x_max_2,funct_for_roots(x_max_2)))\n",
    "\n",
    "x_root_2 = bisect_root_search(funct_for_roots,x_min_2,x_max_2,tolerance)\n",
    "y_root_2 = funct_for_roots(x_root_2)\n",
    "\n",
    "s = \"Second root found with y(%f) = %f\" % (x_root_2,y_root_2)\n",
    "print(s)"
   ]
  },
  {
   "cell_type": "markdown",
   "metadata": {},
   "source": [
    "In both cases, 17 iterations of the process were needed to get acceptable approximations with the given tolerance."
   ]
  },
  {
   "cell_type": "markdown",
   "metadata": {},
   "source": [
    "Now, make a plot of f(x) vs. x as a line and indicate with different colored points your initial bracketing values and the roots. Use limits x=[0,3] and y=[-0.5,2.1]. Add a horizontal line at z=0. Plot f(x) at 1000 evenly spaced values of x=[0,3]."
   ]
  },
  {
   "cell_type": "code",
   "execution_count": null,
   "metadata": {},
   "outputs": [],
   "source": [
    "x = np.linspace(0, 3, 1000)\n",
    "\n",
    "plt.plot(x, funct_for_roots(x),'k-')\n",
    "def horiz_line(x):\n",
    "    return x*0\n",
    "plt.plot(x, horiz_line(x), 'k--', linewidth=1)\n",
    "plt.plot(x_min_1, funct_for_roots(x_min_1), 'r.', markersize=12)\n",
    "plt.plot(x_max_1, funct_for_roots(x_max_1), 'r.', markersize=12)\n",
    "plt.plot(x_root_1, y_root_1, 'b.', markersize=12)\n",
    "plt.plot(x_min_2, funct_for_roots(x_min_2), 'r.', markersize=12)\n",
    "plt.plot(x_max_2, funct_for_roots(x_max_2), 'r.', markersize=12)\n",
    "plt.plot(x_root_2, y_root_2, 'b.', markersize=12)\n",
    "\n",
    "plt.xlabel('x')\n",
    "plt.ylabel('f(x)')\n",
    "plt.xlim([0,3])\n",
    "plt.ylim([-0.5,2.1])"
   ]
  },
  {
   "cell_type": "code",
   "execution_count": null,
   "metadata": {},
   "outputs": [],
   "source": []
  }
 ],
 "metadata": {
  "kernelspec": {
   "display_name": "Python 3",
   "language": "python",
   "name": "python3"
  },
  "language_info": {
   "codemirror_mode": {
    "name": "ipython",
    "version": 3
   },
   "file_extension": ".py",
   "mimetype": "text/x-python",
   "name": "python",
   "nbconvert_exporter": "python",
   "pygments_lexer": "ipython3",
   "version": "3.7.0"
  }
 },
 "nbformat": 4,
 "nbformat_minor": 2
}
